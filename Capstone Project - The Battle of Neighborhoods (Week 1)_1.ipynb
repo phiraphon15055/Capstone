{
 "cells": [
  {
   "cell_type": "markdown",
   "metadata": {},
   "source": [
    "# Introduction & Business Problem :"
   ]
  },
  {
   "cell_type": "markdown",
   "metadata": {},
   "source": [
    "The City of New York, is the most populous city in the United States. It is diverse and is the financial capital of USA. It is multicultural. It provides lot of business oppourtunities and business friendly environment. It has attracted many different players into the market. It is a global hub of business and commerce. The city is a major center for banking and finance, retailing, world trade, transportation, tourism, real estate, new media, traditional media, advertising, legal services, accountancy, insurance, theater, fashion, and the arts in the United States.\n",
    "\n",
    "This also means that the market is highly competitive. As it is highly developed city so cost of doing business is also one of the highest. Thus, any new business venture or expansion needs to be analysed carefully. The insights derived from analysis will give good understanding of the business environment which help in strategically targeting the market. This will help in reduction of risk. And the Return on Investment will be reasonable."
   ]
  },
  {
   "cell_type": "markdown",
   "metadata": {},
   "source": [
    "## A description of the problem and a discussion of the background."
   ]
  },
  {
   "cell_type": "markdown",
   "metadata": {},
   "source": [
    "### How to choose the Best Location to start an Asian Restaurant in London ?"
   ]
  },
  {
   "cell_type": "markdown",
   "metadata": {},
   "source": [
    "Opening a restaurant is all about location, location, location. However, not every\n",
    "restaurant is suitable for every location, and vice versa. It comes down to a combination of\n",
    "restaurant style, target audience, your competitors. If you can define your restaurant type\n",
    "and identify your target demographic and its most populated areas, you’ll be well on your\n",
    "way to choosing a restaurant location that sets your business up for success.There’s a lot\n",
    "of work, planning and preparation that goes into opening a restaurant. Here are a few tips\n",
    "on how to open a restaurant in London and some steps you’ll need to take in order to\n",
    "achieve your goal."
   ]
  },
  {
   "cell_type": "markdown",
   "metadata": {},
   "source": [
    "## A description of the data and how it will be used to solve the problem. "
   ]
  },
  {
   "cell_type": "markdown",
   "metadata": {},
   "source": [
    "London is one of the most ethnically diverse cities in the world. At the 2011 census,\n",
    "London had a population of 8,173,941. Of this number, 44.9% were White British. 37% of\n",
    "the population were born outside the UK, including 24.5% born outside of Europe.\n",
    "The demography of London is analysed by the Office for National Statistic and data is\n",
    "produced for each of the Greater London wards, the City of London and the 32 London\n",
    "boroughs, the Inner London and Outer London statistical sub-regions, each of the\n",
    "Parliamentary constituencies in London, and for all of Greater London as a whole.\n",
    "For our restaurant problem, we will focus on the Boroughs of London and work on getting\n",
    "the data from all the Boroughs. There are 32 London Boroughs with a population of around\n",
    "150,000 to 300,000."
   ]
  },
  {
   "cell_type": "markdown",
   "metadata": {},
   "source": [
    " To solve our problem of finding a best location to start an Asian restaurant in London, we need to datasets based on various parameters such as :"
   ]
  },
  {
   "cell_type": "markdown",
   "metadata": {},
   "source": [
    "1. Population of target audience in all the boroughs of London based on their : Asian, ethnicity, Age, Gender, Marital Status, Employment, StatusIncome\n",
    "2. We also need the data about the required Business floorspace and Rateable Value\n",
    "statistics of each borough.\n",
    "3. Considering the competitors factor, we also need the data of extsing Licensed\n",
    "Restaurants in each borough.\n",
    "4. And lastly we will also consider the borough level tourist and domestic annual spend\n",
    "estimates."
   ]
  },
  {
   "cell_type": "markdown",
   "metadata": {},
   "source": [
    "All the above required information is available at London Datastore, which is a free and\n",
    "open data-sharing portal where anyone can access data relating to the city. The data is\n",
    "available in XLS and CSV format, which we can download and can use as-is for solving our\n",
    "problem.\n",
    "The link for the London Datastore - https://data.london.gov.uk/\n",
    "Along with the above datasets we will also use the Foursquare location data to solve our\n",
    "problem."
   ]
  }
 ],
 "metadata": {
  "kernelspec": {
   "display_name": "Python",
   "language": "python",
   "name": "conda-env-python-py"
  },
  "language_info": {
   "codemirror_mode": {
    "name": "ipython",
    "version": 3
   },
   "file_extension": ".py",
   "mimetype": "text/x-python",
   "name": "python",
   "nbconvert_exporter": "python",
   "pygments_lexer": "ipython3",
   "version": "3.6.7"
  }
 },
 "nbformat": 4,
 "nbformat_minor": 4
}
